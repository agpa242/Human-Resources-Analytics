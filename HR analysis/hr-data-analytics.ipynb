{
 "cells": [
  {
   "cell_type": "code",
   "execution_count": 1,
   "id": "4266e30d",
   "metadata": {
    "_cell_guid": "b1076dfc-b9ad-4769-8c92-a6c4dae69d19",
    "_uuid": "8f2839f25d086af736a60e9eeb907d3b93b6e0e5",
    "execution": {
     "iopub.execute_input": "2022-10-28T18:20:39.117078Z",
     "iopub.status.busy": "2022-10-28T18:20:39.116062Z",
     "iopub.status.idle": "2022-10-28T18:20:39.141584Z",
     "shell.execute_reply": "2022-10-28T18:20:39.140370Z"
    },
    "papermill": {
     "duration": 0.042351,
     "end_time": "2022-10-28T18:20:39.144377",
     "exception": false,
     "start_time": "2022-10-28T18:20:39.102026",
     "status": "completed"
    },
    "tags": []
   },
   "outputs": [
    {
     "name": "stdout",
     "output_type": "stream",
     "text": [
      "/kaggle/input/hr-analytics-prediction/HR-Employee-Attrition.csv\n"
     ]
    }
   ],
   "source": [
    "# This Python 3 environment comes with many helpful analytics libraries installed\n",
    "# It is defined by the kaggle/python Docker image: https://github.com/kaggle/docker-python\n",
    "# For example, here's several helpful packages to load\n",
    "\n",
    "import numpy as np # linear algebra\n",
    "import pandas as pd # data processing, CSV file I/O (e.g. pd.read_csv)\n",
    "\n",
    "# Input data files are available in the read-only \"../input/\" directory\n",
    "# For example, running this (by clicking run or pressing Shift+Enter) will list all files under the input directory\n",
    "\n",
    "import os\n",
    "for dirname, _, filenames in os.walk('/kaggle/input'):\n",
    "    for filename in filenames:\n",
    "        print(os.path.join(dirname, filename))\n",
    "\n",
    "# You can write up to 20GB to the current directory (/kaggle/working/) that gets preserved as output when you create a version using \"Save & Run All\" \n",
    "# You can also write temporary files to /kaggle/temp/, but they won't be saved outside of the current session"
   ]
  },
  {
   "cell_type": "code",
   "execution_count": 2,
   "id": "4bcdef49",
   "metadata": {
    "execution": {
     "iopub.execute_input": "2022-10-28T18:20:39.169794Z",
     "iopub.status.busy": "2022-10-28T18:20:39.169302Z",
     "iopub.status.idle": "2022-10-28T18:20:39.174090Z",
     "shell.execute_reply": "2022-10-28T18:20:39.173091Z"
    },
    "papermill": {
     "duration": 0.020919,
     "end_time": "2022-10-28T18:20:39.176329",
     "exception": false,
     "start_time": "2022-10-28T18:20:39.155410",
     "status": "completed"
    },
    "tags": []
   },
   "outputs": [],
   "source": [
    "import numpy as np # linear algebra\n",
    "import pandas as pd"
   ]
  },
  {
   "cell_type": "code",
   "execution_count": 3,
   "id": "81cee0d9",
   "metadata": {
    "execution": {
     "iopub.execute_input": "2022-10-28T18:20:39.199407Z",
     "iopub.status.busy": "2022-10-28T18:20:39.199002Z",
     "iopub.status.idle": "2022-10-28T18:20:39.237103Z",
     "shell.execute_reply": "2022-10-28T18:20:39.236071Z"
    },
    "papermill": {
     "duration": 0.052659,
     "end_time": "2022-10-28T18:20:39.239815",
     "exception": false,
     "start_time": "2022-10-28T18:20:39.187156",
     "status": "completed"
    },
    "tags": []
   },
   "outputs": [],
   "source": [
    "HRData=pd.read_csv(\"../input/hr-analytics-prediction/HR-Employee-Attrition.csv\") "
   ]
  },
  {
   "cell_type": "markdown",
   "id": "d9f30924",
   "metadata": {
    "papermill": {
     "duration": 0.010404,
     "end_time": "2022-10-28T18:20:39.261002",
     "exception": false,
     "start_time": "2022-10-28T18:20:39.250598",
     "status": "completed"
    },
    "tags": []
   },
   "source": [
    "# #Analysing the Data"
   ]
  },
  {
   "cell_type": "markdown",
   "id": "80596343",
   "metadata": {
    "papermill": {
     "duration": 0.010519,
     "end_time": "2022-10-28T18:20:39.282513",
     "exception": false,
     "start_time": "2022-10-28T18:20:39.271994",
     "status": "completed"
    },
    "tags": []
   },
   "source": []
  },
  {
   "cell_type": "code",
   "execution_count": 4,
   "id": "678df9e5",
   "metadata": {
    "execution": {
     "iopub.execute_input": "2022-10-28T18:20:39.305662Z",
     "iopub.status.busy": "2022-10-28T18:20:39.305252Z",
     "iopub.status.idle": "2022-10-28T18:20:39.346228Z",
     "shell.execute_reply": "2022-10-28T18:20:39.345048Z"
    },
    "papermill": {
     "duration": 0.055409,
     "end_time": "2022-10-28T18:20:39.348648",
     "exception": false,
     "start_time": "2022-10-28T18:20:39.293239",
     "status": "completed"
    },
    "tags": []
   },
   "outputs": [
    {
     "data": {
      "text/html": [
       "<div>\n",
       "<style scoped>\n",
       "    .dataframe tbody tr th:only-of-type {\n",
       "        vertical-align: middle;\n",
       "    }\n",
       "\n",
       "    .dataframe tbody tr th {\n",
       "        vertical-align: top;\n",
       "    }\n",
       "\n",
       "    .dataframe thead th {\n",
       "        text-align: right;\n",
       "    }\n",
       "</style>\n",
       "<table border=\"1\" class=\"dataframe\">\n",
       "  <thead>\n",
       "    <tr style=\"text-align: right;\">\n",
       "      <th></th>\n",
       "      <th>Age</th>\n",
       "      <th>Attrition</th>\n",
       "      <th>BusinessTravel</th>\n",
       "      <th>DailyRate</th>\n",
       "      <th>Department</th>\n",
       "      <th>DistanceFromHome</th>\n",
       "      <th>Education</th>\n",
       "      <th>EducationField</th>\n",
       "      <th>EmployeeCount</th>\n",
       "      <th>EmployeeNumber</th>\n",
       "      <th>...</th>\n",
       "      <th>RelationshipSatisfaction</th>\n",
       "      <th>StandardHours</th>\n",
       "      <th>StockOptionLevel</th>\n",
       "      <th>TotalWorkingYears</th>\n",
       "      <th>TrainingTimesLastYear</th>\n",
       "      <th>WorkLifeBalance</th>\n",
       "      <th>YearsAtCompany</th>\n",
       "      <th>YearsInCurrentRole</th>\n",
       "      <th>YearsSinceLastPromotion</th>\n",
       "      <th>YearsWithCurrManager</th>\n",
       "    </tr>\n",
       "  </thead>\n",
       "  <tbody>\n",
       "    <tr>\n",
       "      <th>1465</th>\n",
       "      <td>36</td>\n",
       "      <td>No</td>\n",
       "      <td>Travel_Frequently</td>\n",
       "      <td>884</td>\n",
       "      <td>Research &amp; Development</td>\n",
       "      <td>23</td>\n",
       "      <td>2</td>\n",
       "      <td>Medical</td>\n",
       "      <td>1</td>\n",
       "      <td>2061</td>\n",
       "      <td>...</td>\n",
       "      <td>3</td>\n",
       "      <td>80</td>\n",
       "      <td>1</td>\n",
       "      <td>17</td>\n",
       "      <td>3</td>\n",
       "      <td>3</td>\n",
       "      <td>5</td>\n",
       "      <td>2</td>\n",
       "      <td>0</td>\n",
       "      <td>3</td>\n",
       "    </tr>\n",
       "    <tr>\n",
       "      <th>1466</th>\n",
       "      <td>39</td>\n",
       "      <td>No</td>\n",
       "      <td>Travel_Rarely</td>\n",
       "      <td>613</td>\n",
       "      <td>Research &amp; Development</td>\n",
       "      <td>6</td>\n",
       "      <td>1</td>\n",
       "      <td>Medical</td>\n",
       "      <td>1</td>\n",
       "      <td>2062</td>\n",
       "      <td>...</td>\n",
       "      <td>1</td>\n",
       "      <td>80</td>\n",
       "      <td>1</td>\n",
       "      <td>9</td>\n",
       "      <td>5</td>\n",
       "      <td>3</td>\n",
       "      <td>7</td>\n",
       "      <td>7</td>\n",
       "      <td>1</td>\n",
       "      <td>7</td>\n",
       "    </tr>\n",
       "    <tr>\n",
       "      <th>1467</th>\n",
       "      <td>27</td>\n",
       "      <td>No</td>\n",
       "      <td>Travel_Rarely</td>\n",
       "      <td>155</td>\n",
       "      <td>Research &amp; Development</td>\n",
       "      <td>4</td>\n",
       "      <td>3</td>\n",
       "      <td>Life Sciences</td>\n",
       "      <td>1</td>\n",
       "      <td>2064</td>\n",
       "      <td>...</td>\n",
       "      <td>2</td>\n",
       "      <td>80</td>\n",
       "      <td>1</td>\n",
       "      <td>6</td>\n",
       "      <td>0</td>\n",
       "      <td>3</td>\n",
       "      <td>6</td>\n",
       "      <td>2</td>\n",
       "      <td>0</td>\n",
       "      <td>3</td>\n",
       "    </tr>\n",
       "    <tr>\n",
       "      <th>1468</th>\n",
       "      <td>49</td>\n",
       "      <td>No</td>\n",
       "      <td>Travel_Frequently</td>\n",
       "      <td>1023</td>\n",
       "      <td>Sales</td>\n",
       "      <td>2</td>\n",
       "      <td>3</td>\n",
       "      <td>Medical</td>\n",
       "      <td>1</td>\n",
       "      <td>2065</td>\n",
       "      <td>...</td>\n",
       "      <td>4</td>\n",
       "      <td>80</td>\n",
       "      <td>0</td>\n",
       "      <td>17</td>\n",
       "      <td>3</td>\n",
       "      <td>2</td>\n",
       "      <td>9</td>\n",
       "      <td>6</td>\n",
       "      <td>0</td>\n",
       "      <td>8</td>\n",
       "    </tr>\n",
       "    <tr>\n",
       "      <th>1469</th>\n",
       "      <td>34</td>\n",
       "      <td>No</td>\n",
       "      <td>Travel_Rarely</td>\n",
       "      <td>628</td>\n",
       "      <td>Research &amp; Development</td>\n",
       "      <td>8</td>\n",
       "      <td>3</td>\n",
       "      <td>Medical</td>\n",
       "      <td>1</td>\n",
       "      <td>2068</td>\n",
       "      <td>...</td>\n",
       "      <td>1</td>\n",
       "      <td>80</td>\n",
       "      <td>0</td>\n",
       "      <td>6</td>\n",
       "      <td>3</td>\n",
       "      <td>4</td>\n",
       "      <td>4</td>\n",
       "      <td>3</td>\n",
       "      <td>1</td>\n",
       "      <td>2</td>\n",
       "    </tr>\n",
       "  </tbody>\n",
       "</table>\n",
       "<p>5 rows × 35 columns</p>\n",
       "</div>"
      ],
      "text/plain": [
       "      Age Attrition     BusinessTravel  DailyRate              Department  \\\n",
       "1465   36        No  Travel_Frequently        884  Research & Development   \n",
       "1466   39        No      Travel_Rarely        613  Research & Development   \n",
       "1467   27        No      Travel_Rarely        155  Research & Development   \n",
       "1468   49        No  Travel_Frequently       1023                   Sales   \n",
       "1469   34        No      Travel_Rarely        628  Research & Development   \n",
       "\n",
       "      DistanceFromHome  Education EducationField  EmployeeCount  \\\n",
       "1465                23          2        Medical              1   \n",
       "1466                 6          1        Medical              1   \n",
       "1467                 4          3  Life Sciences              1   \n",
       "1468                 2          3        Medical              1   \n",
       "1469                 8          3        Medical              1   \n",
       "\n",
       "      EmployeeNumber  ...  RelationshipSatisfaction StandardHours  \\\n",
       "1465            2061  ...                         3            80   \n",
       "1466            2062  ...                         1            80   \n",
       "1467            2064  ...                         2            80   \n",
       "1468            2065  ...                         4            80   \n",
       "1469            2068  ...                         1            80   \n",
       "\n",
       "      StockOptionLevel  TotalWorkingYears  TrainingTimesLastYear  \\\n",
       "1465                 1                 17                      3   \n",
       "1466                 1                  9                      5   \n",
       "1467                 1                  6                      0   \n",
       "1468                 0                 17                      3   \n",
       "1469                 0                  6                      3   \n",
       "\n",
       "     WorkLifeBalance  YearsAtCompany YearsInCurrentRole  \\\n",
       "1465               3               5                  2   \n",
       "1466               3               7                  7   \n",
       "1467               3               6                  2   \n",
       "1468               2               9                  6   \n",
       "1469               4               4                  3   \n",
       "\n",
       "      YearsSinceLastPromotion  YearsWithCurrManager  \n",
       "1465                        0                     3  \n",
       "1466                        1                     7  \n",
       "1467                        0                     3  \n",
       "1468                        0                     8  \n",
       "1469                        1                     2  \n",
       "\n",
       "[5 rows x 35 columns]"
      ]
     },
     "execution_count": 4,
     "metadata": {},
     "output_type": "execute_result"
    }
   ],
   "source": [
    "HRData.tail()"
   ]
  },
  {
   "cell_type": "code",
   "execution_count": 5,
   "id": "37b05f1d",
   "metadata": {
    "execution": {
     "iopub.execute_input": "2022-10-28T18:20:39.374638Z",
     "iopub.status.busy": "2022-10-28T18:20:39.374232Z",
     "iopub.status.idle": "2022-10-28T18:20:39.381265Z",
     "shell.execute_reply": "2022-10-28T18:20:39.380143Z"
    },
    "papermill": {
     "duration": 0.023244,
     "end_time": "2022-10-28T18:20:39.383473",
     "exception": false,
     "start_time": "2022-10-28T18:20:39.360229",
     "status": "completed"
    },
    "tags": []
   },
   "outputs": [
    {
     "data": {
      "text/plain": [
       "(1470, 35)"
      ]
     },
     "execution_count": 5,
     "metadata": {},
     "output_type": "execute_result"
    }
   ],
   "source": [
    "HRData.shape"
   ]
  },
  {
   "cell_type": "code",
   "execution_count": 6,
   "id": "dee99b71",
   "metadata": {
    "execution": {
     "iopub.execute_input": "2022-10-28T18:20:39.407956Z",
     "iopub.status.busy": "2022-10-28T18:20:39.407329Z",
     "iopub.status.idle": "2022-10-28T18:20:39.424726Z",
     "shell.execute_reply": "2022-10-28T18:20:39.423442Z"
    },
    "papermill": {
     "duration": 0.032343,
     "end_time": "2022-10-28T18:20:39.426928",
     "exception": false,
     "start_time": "2022-10-28T18:20:39.394585",
     "status": "completed"
    },
    "tags": []
   },
   "outputs": [
    {
     "data": {
      "text/plain": [
       "<bound method NDFrame.describe of       Age Attrition     BusinessTravel  DailyRate              Department  \\\n",
       "0      41       Yes      Travel_Rarely       1102                   Sales   \n",
       "1      49        No  Travel_Frequently        279  Research & Development   \n",
       "2      37       Yes      Travel_Rarely       1373  Research & Development   \n",
       "3      33        No  Travel_Frequently       1392  Research & Development   \n",
       "4      27        No      Travel_Rarely        591  Research & Development   \n",
       "...   ...       ...                ...        ...                     ...   \n",
       "1465   36        No  Travel_Frequently        884  Research & Development   \n",
       "1466   39        No      Travel_Rarely        613  Research & Development   \n",
       "1467   27        No      Travel_Rarely        155  Research & Development   \n",
       "1468   49        No  Travel_Frequently       1023                   Sales   \n",
       "1469   34        No      Travel_Rarely        628  Research & Development   \n",
       "\n",
       "      DistanceFromHome  Education EducationField  EmployeeCount  \\\n",
       "0                    1          2  Life Sciences              1   \n",
       "1                    8          1  Life Sciences              1   \n",
       "2                    2          2          Other              1   \n",
       "3                    3          4  Life Sciences              1   \n",
       "4                    2          1        Medical              1   \n",
       "...                ...        ...            ...            ...   \n",
       "1465                23          2        Medical              1   \n",
       "1466                 6          1        Medical              1   \n",
       "1467                 4          3  Life Sciences              1   \n",
       "1468                 2          3        Medical              1   \n",
       "1469                 8          3        Medical              1   \n",
       "\n",
       "      EmployeeNumber  ...  RelationshipSatisfaction StandardHours  \\\n",
       "0                  1  ...                         1            80   \n",
       "1                  2  ...                         4            80   \n",
       "2                  4  ...                         2            80   \n",
       "3                  5  ...                         3            80   \n",
       "4                  7  ...                         4            80   \n",
       "...              ...  ...                       ...           ...   \n",
       "1465            2061  ...                         3            80   \n",
       "1466            2062  ...                         1            80   \n",
       "1467            2064  ...                         2            80   \n",
       "1468            2065  ...                         4            80   \n",
       "1469            2068  ...                         1            80   \n",
       "\n",
       "      StockOptionLevel  TotalWorkingYears  TrainingTimesLastYear  \\\n",
       "0                    0                  8                      0   \n",
       "1                    1                 10                      3   \n",
       "2                    0                  7                      3   \n",
       "3                    0                  8                      3   \n",
       "4                    1                  6                      3   \n",
       "...                ...                ...                    ...   \n",
       "1465                 1                 17                      3   \n",
       "1466                 1                  9                      5   \n",
       "1467                 1                  6                      0   \n",
       "1468                 0                 17                      3   \n",
       "1469                 0                  6                      3   \n",
       "\n",
       "     WorkLifeBalance  YearsAtCompany YearsInCurrentRole  \\\n",
       "0                  1               6                  4   \n",
       "1                  3              10                  7   \n",
       "2                  3               0                  0   \n",
       "3                  3               8                  7   \n",
       "4                  3               2                  2   \n",
       "...              ...             ...                ...   \n",
       "1465               3               5                  2   \n",
       "1466               3               7                  7   \n",
       "1467               3               6                  2   \n",
       "1468               2               9                  6   \n",
       "1469               4               4                  3   \n",
       "\n",
       "      YearsSinceLastPromotion  YearsWithCurrManager  \n",
       "0                           0                     5  \n",
       "1                           1                     7  \n",
       "2                           0                     0  \n",
       "3                           3                     0  \n",
       "4                           2                     2  \n",
       "...                       ...                   ...  \n",
       "1465                        0                     3  \n",
       "1466                        1                     7  \n",
       "1467                        0                     3  \n",
       "1468                        0                     8  \n",
       "1469                        1                     2  \n",
       "\n",
       "[1470 rows x 35 columns]>"
      ]
     },
     "execution_count": 6,
     "metadata": {},
     "output_type": "execute_result"
    }
   ],
   "source": [
    "HRData.describe"
   ]
  },
  {
   "cell_type": "markdown",
   "id": "0c7284ec",
   "metadata": {
    "papermill": {
     "duration": 0.011365,
     "end_time": "2022-10-28T18:20:39.450069",
     "exception": false,
     "start_time": "2022-10-28T18:20:39.438704",
     "status": "completed"
    },
    "tags": []
   },
   "source": [
    "Here,We can see by running below code that Given data has no null values."
   ]
  },
  {
   "cell_type": "markdown",
   "id": "baa889f6",
   "metadata": {
    "papermill": {
     "duration": 0.011463,
     "end_time": "2022-10-28T18:20:39.473188",
     "exception": false,
     "start_time": "2022-10-28T18:20:39.461725",
     "status": "completed"
    },
    "tags": []
   },
   "source": [
    "#To check if any null values present in columns"
   ]
  },
  {
   "cell_type": "code",
   "execution_count": 7,
   "id": "e710206a",
   "metadata": {
    "execution": {
     "iopub.execute_input": "2022-10-28T18:20:39.499061Z",
     "iopub.status.busy": "2022-10-28T18:20:39.498312Z",
     "iopub.status.idle": "2022-10-28T18:20:39.508190Z",
     "shell.execute_reply": "2022-10-28T18:20:39.507078Z"
    },
    "papermill": {
     "duration": 0.025582,
     "end_time": "2022-10-28T18:20:39.510420",
     "exception": false,
     "start_time": "2022-10-28T18:20:39.484838",
     "status": "completed"
    },
    "tags": []
   },
   "outputs": [
    {
     "data": {
      "text/plain": [
       "Age                         0\n",
       "Attrition                   0\n",
       "BusinessTravel              0\n",
       "DailyRate                   0\n",
       "Department                  0\n",
       "DistanceFromHome            0\n",
       "Education                   0\n",
       "EducationField              0\n",
       "EmployeeCount               0\n",
       "EmployeeNumber              0\n",
       "EnvironmentSatisfaction     0\n",
       "Gender                      0\n",
       "HourlyRate                  0\n",
       "JobInvolvement              0\n",
       "JobLevel                    0\n",
       "JobRole                     0\n",
       "JobSatisfaction             0\n",
       "MaritalStatus               0\n",
       "MonthlyIncome               0\n",
       "MonthlyRate                 0\n",
       "NumCompaniesWorked          0\n",
       "Over18                      0\n",
       "OverTime                    0\n",
       "PercentSalaryHike           0\n",
       "PerformanceRating           0\n",
       "RelationshipSatisfaction    0\n",
       "StandardHours               0\n",
       "StockOptionLevel            0\n",
       "TotalWorkingYears           0\n",
       "TrainingTimesLastYear       0\n",
       "WorkLifeBalance             0\n",
       "YearsAtCompany              0\n",
       "YearsInCurrentRole          0\n",
       "YearsSinceLastPromotion     0\n",
       "YearsWithCurrManager        0\n",
       "dtype: int64"
      ]
     },
     "execution_count": 7,
     "metadata": {},
     "output_type": "execute_result"
    }
   ],
   "source": [
    "HRData.isnull().sum()"
   ]
  },
  {
   "cell_type": "code",
   "execution_count": 8,
   "id": "e2157243",
   "metadata": {
    "execution": {
     "iopub.execute_input": "2022-10-28T18:20:39.536108Z",
     "iopub.status.busy": "2022-10-28T18:20:39.535406Z",
     "iopub.status.idle": "2022-10-28T18:20:39.626552Z",
     "shell.execute_reply": "2022-10-28T18:20:39.625593Z"
    },
    "papermill": {
     "duration": 0.107584,
     "end_time": "2022-10-28T18:20:39.629759",
     "exception": false,
     "start_time": "2022-10-28T18:20:39.522175",
     "status": "completed"
    },
    "tags": []
   },
   "outputs": [
    {
     "data": {
      "text/html": [
       "<div>\n",
       "<style scoped>\n",
       "    .dataframe tbody tr th:only-of-type {\n",
       "        vertical-align: middle;\n",
       "    }\n",
       "\n",
       "    .dataframe tbody tr th {\n",
       "        vertical-align: top;\n",
       "    }\n",
       "\n",
       "    .dataframe thead th {\n",
       "        text-align: right;\n",
       "    }\n",
       "</style>\n",
       "<table border=\"1\" class=\"dataframe\">\n",
       "  <thead>\n",
       "    <tr style=\"text-align: right;\">\n",
       "      <th></th>\n",
       "      <th>Age</th>\n",
       "      <th>DailyRate</th>\n",
       "      <th>DistanceFromHome</th>\n",
       "      <th>Education</th>\n",
       "      <th>EmployeeCount</th>\n",
       "      <th>EmployeeNumber</th>\n",
       "      <th>EnvironmentSatisfaction</th>\n",
       "      <th>HourlyRate</th>\n",
       "      <th>JobInvolvement</th>\n",
       "      <th>JobLevel</th>\n",
       "      <th>...</th>\n",
       "      <th>RelationshipSatisfaction</th>\n",
       "      <th>StandardHours</th>\n",
       "      <th>StockOptionLevel</th>\n",
       "      <th>TotalWorkingYears</th>\n",
       "      <th>TrainingTimesLastYear</th>\n",
       "      <th>WorkLifeBalance</th>\n",
       "      <th>YearsAtCompany</th>\n",
       "      <th>YearsInCurrentRole</th>\n",
       "      <th>YearsSinceLastPromotion</th>\n",
       "      <th>YearsWithCurrManager</th>\n",
       "    </tr>\n",
       "  </thead>\n",
       "  <tbody>\n",
       "    <tr>\n",
       "      <th>count</th>\n",
       "      <td>1470.000000</td>\n",
       "      <td>1470.000000</td>\n",
       "      <td>1470.000000</td>\n",
       "      <td>1470.000000</td>\n",
       "      <td>1470.0</td>\n",
       "      <td>1470.000000</td>\n",
       "      <td>1470.000000</td>\n",
       "      <td>1470.000000</td>\n",
       "      <td>1470.000000</td>\n",
       "      <td>1470.000000</td>\n",
       "      <td>...</td>\n",
       "      <td>1470.000000</td>\n",
       "      <td>1470.0</td>\n",
       "      <td>1470.000000</td>\n",
       "      <td>1470.000000</td>\n",
       "      <td>1470.000000</td>\n",
       "      <td>1470.000000</td>\n",
       "      <td>1470.000000</td>\n",
       "      <td>1470.000000</td>\n",
       "      <td>1470.000000</td>\n",
       "      <td>1470.000000</td>\n",
       "    </tr>\n",
       "    <tr>\n",
       "      <th>mean</th>\n",
       "      <td>36.923810</td>\n",
       "      <td>802.485714</td>\n",
       "      <td>9.192517</td>\n",
       "      <td>2.912925</td>\n",
       "      <td>1.0</td>\n",
       "      <td>1024.865306</td>\n",
       "      <td>2.721769</td>\n",
       "      <td>65.891156</td>\n",
       "      <td>2.729932</td>\n",
       "      <td>2.063946</td>\n",
       "      <td>...</td>\n",
       "      <td>2.712245</td>\n",
       "      <td>80.0</td>\n",
       "      <td>0.793878</td>\n",
       "      <td>11.279592</td>\n",
       "      <td>2.799320</td>\n",
       "      <td>2.761224</td>\n",
       "      <td>7.008163</td>\n",
       "      <td>4.229252</td>\n",
       "      <td>2.187755</td>\n",
       "      <td>4.123129</td>\n",
       "    </tr>\n",
       "    <tr>\n",
       "      <th>std</th>\n",
       "      <td>9.135373</td>\n",
       "      <td>403.509100</td>\n",
       "      <td>8.106864</td>\n",
       "      <td>1.024165</td>\n",
       "      <td>0.0</td>\n",
       "      <td>602.024335</td>\n",
       "      <td>1.093082</td>\n",
       "      <td>20.329428</td>\n",
       "      <td>0.711561</td>\n",
       "      <td>1.106940</td>\n",
       "      <td>...</td>\n",
       "      <td>1.081209</td>\n",
       "      <td>0.0</td>\n",
       "      <td>0.852077</td>\n",
       "      <td>7.780782</td>\n",
       "      <td>1.289271</td>\n",
       "      <td>0.706476</td>\n",
       "      <td>6.126525</td>\n",
       "      <td>3.623137</td>\n",
       "      <td>3.222430</td>\n",
       "      <td>3.568136</td>\n",
       "    </tr>\n",
       "    <tr>\n",
       "      <th>min</th>\n",
       "      <td>18.000000</td>\n",
       "      <td>102.000000</td>\n",
       "      <td>1.000000</td>\n",
       "      <td>1.000000</td>\n",
       "      <td>1.0</td>\n",
       "      <td>1.000000</td>\n",
       "      <td>1.000000</td>\n",
       "      <td>30.000000</td>\n",
       "      <td>1.000000</td>\n",
       "      <td>1.000000</td>\n",
       "      <td>...</td>\n",
       "      <td>1.000000</td>\n",
       "      <td>80.0</td>\n",
       "      <td>0.000000</td>\n",
       "      <td>0.000000</td>\n",
       "      <td>0.000000</td>\n",
       "      <td>1.000000</td>\n",
       "      <td>0.000000</td>\n",
       "      <td>0.000000</td>\n",
       "      <td>0.000000</td>\n",
       "      <td>0.000000</td>\n",
       "    </tr>\n",
       "    <tr>\n",
       "      <th>25%</th>\n",
       "      <td>30.000000</td>\n",
       "      <td>465.000000</td>\n",
       "      <td>2.000000</td>\n",
       "      <td>2.000000</td>\n",
       "      <td>1.0</td>\n",
       "      <td>491.250000</td>\n",
       "      <td>2.000000</td>\n",
       "      <td>48.000000</td>\n",
       "      <td>2.000000</td>\n",
       "      <td>1.000000</td>\n",
       "      <td>...</td>\n",
       "      <td>2.000000</td>\n",
       "      <td>80.0</td>\n",
       "      <td>0.000000</td>\n",
       "      <td>6.000000</td>\n",
       "      <td>2.000000</td>\n",
       "      <td>2.000000</td>\n",
       "      <td>3.000000</td>\n",
       "      <td>2.000000</td>\n",
       "      <td>0.000000</td>\n",
       "      <td>2.000000</td>\n",
       "    </tr>\n",
       "    <tr>\n",
       "      <th>50%</th>\n",
       "      <td>36.000000</td>\n",
       "      <td>802.000000</td>\n",
       "      <td>7.000000</td>\n",
       "      <td>3.000000</td>\n",
       "      <td>1.0</td>\n",
       "      <td>1020.500000</td>\n",
       "      <td>3.000000</td>\n",
       "      <td>66.000000</td>\n",
       "      <td>3.000000</td>\n",
       "      <td>2.000000</td>\n",
       "      <td>...</td>\n",
       "      <td>3.000000</td>\n",
       "      <td>80.0</td>\n",
       "      <td>1.000000</td>\n",
       "      <td>10.000000</td>\n",
       "      <td>3.000000</td>\n",
       "      <td>3.000000</td>\n",
       "      <td>5.000000</td>\n",
       "      <td>3.000000</td>\n",
       "      <td>1.000000</td>\n",
       "      <td>3.000000</td>\n",
       "    </tr>\n",
       "    <tr>\n",
       "      <th>75%</th>\n",
       "      <td>43.000000</td>\n",
       "      <td>1157.000000</td>\n",
       "      <td>14.000000</td>\n",
       "      <td>4.000000</td>\n",
       "      <td>1.0</td>\n",
       "      <td>1555.750000</td>\n",
       "      <td>4.000000</td>\n",
       "      <td>83.750000</td>\n",
       "      <td>3.000000</td>\n",
       "      <td>3.000000</td>\n",
       "      <td>...</td>\n",
       "      <td>4.000000</td>\n",
       "      <td>80.0</td>\n",
       "      <td>1.000000</td>\n",
       "      <td>15.000000</td>\n",
       "      <td>3.000000</td>\n",
       "      <td>3.000000</td>\n",
       "      <td>9.000000</td>\n",
       "      <td>7.000000</td>\n",
       "      <td>3.000000</td>\n",
       "      <td>7.000000</td>\n",
       "    </tr>\n",
       "    <tr>\n",
       "      <th>max</th>\n",
       "      <td>60.000000</td>\n",
       "      <td>1499.000000</td>\n",
       "      <td>29.000000</td>\n",
       "      <td>5.000000</td>\n",
       "      <td>1.0</td>\n",
       "      <td>2068.000000</td>\n",
       "      <td>4.000000</td>\n",
       "      <td>100.000000</td>\n",
       "      <td>4.000000</td>\n",
       "      <td>5.000000</td>\n",
       "      <td>...</td>\n",
       "      <td>4.000000</td>\n",
       "      <td>80.0</td>\n",
       "      <td>3.000000</td>\n",
       "      <td>40.000000</td>\n",
       "      <td>6.000000</td>\n",
       "      <td>4.000000</td>\n",
       "      <td>40.000000</td>\n",
       "      <td>18.000000</td>\n",
       "      <td>15.000000</td>\n",
       "      <td>17.000000</td>\n",
       "    </tr>\n",
       "  </tbody>\n",
       "</table>\n",
       "<p>8 rows × 26 columns</p>\n",
       "</div>"
      ],
      "text/plain": [
       "               Age    DailyRate  DistanceFromHome    Education  EmployeeCount  \\\n",
       "count  1470.000000  1470.000000       1470.000000  1470.000000         1470.0   \n",
       "mean     36.923810   802.485714          9.192517     2.912925            1.0   \n",
       "std       9.135373   403.509100          8.106864     1.024165            0.0   \n",
       "min      18.000000   102.000000          1.000000     1.000000            1.0   \n",
       "25%      30.000000   465.000000          2.000000     2.000000            1.0   \n",
       "50%      36.000000   802.000000          7.000000     3.000000            1.0   \n",
       "75%      43.000000  1157.000000         14.000000     4.000000            1.0   \n",
       "max      60.000000  1499.000000         29.000000     5.000000            1.0   \n",
       "\n",
       "       EmployeeNumber  EnvironmentSatisfaction   HourlyRate  JobInvolvement  \\\n",
       "count     1470.000000              1470.000000  1470.000000     1470.000000   \n",
       "mean      1024.865306                 2.721769    65.891156        2.729932   \n",
       "std        602.024335                 1.093082    20.329428        0.711561   \n",
       "min          1.000000                 1.000000    30.000000        1.000000   \n",
       "25%        491.250000                 2.000000    48.000000        2.000000   \n",
       "50%       1020.500000                 3.000000    66.000000        3.000000   \n",
       "75%       1555.750000                 4.000000    83.750000        3.000000   \n",
       "max       2068.000000                 4.000000   100.000000        4.000000   \n",
       "\n",
       "          JobLevel  ...  RelationshipSatisfaction  StandardHours  \\\n",
       "count  1470.000000  ...               1470.000000         1470.0   \n",
       "mean      2.063946  ...                  2.712245           80.0   \n",
       "std       1.106940  ...                  1.081209            0.0   \n",
       "min       1.000000  ...                  1.000000           80.0   \n",
       "25%       1.000000  ...                  2.000000           80.0   \n",
       "50%       2.000000  ...                  3.000000           80.0   \n",
       "75%       3.000000  ...                  4.000000           80.0   \n",
       "max       5.000000  ...                  4.000000           80.0   \n",
       "\n",
       "       StockOptionLevel  TotalWorkingYears  TrainingTimesLastYear  \\\n",
       "count       1470.000000        1470.000000            1470.000000   \n",
       "mean           0.793878          11.279592               2.799320   \n",
       "std            0.852077           7.780782               1.289271   \n",
       "min            0.000000           0.000000               0.000000   \n",
       "25%            0.000000           6.000000               2.000000   \n",
       "50%            1.000000          10.000000               3.000000   \n",
       "75%            1.000000          15.000000               3.000000   \n",
       "max            3.000000          40.000000               6.000000   \n",
       "\n",
       "       WorkLifeBalance  YearsAtCompany  YearsInCurrentRole  \\\n",
       "count      1470.000000     1470.000000         1470.000000   \n",
       "mean          2.761224        7.008163            4.229252   \n",
       "std           0.706476        6.126525            3.623137   \n",
       "min           1.000000        0.000000            0.000000   \n",
       "25%           2.000000        3.000000            2.000000   \n",
       "50%           3.000000        5.000000            3.000000   \n",
       "75%           3.000000        9.000000            7.000000   \n",
       "max           4.000000       40.000000           18.000000   \n",
       "\n",
       "       YearsSinceLastPromotion  YearsWithCurrManager  \n",
       "count              1470.000000           1470.000000  \n",
       "mean                  2.187755              4.123129  \n",
       "std                   3.222430              3.568136  \n",
       "min                   0.000000              0.000000  \n",
       "25%                   0.000000              2.000000  \n",
       "50%                   1.000000              3.000000  \n",
       "75%                   3.000000              7.000000  \n",
       "max                  15.000000             17.000000  \n",
       "\n",
       "[8 rows x 26 columns]"
      ]
     },
     "execution_count": 8,
     "metadata": {},
     "output_type": "execute_result"
    }
   ],
   "source": [
    "HRData.describe()"
   ]
  },
  {
   "cell_type": "markdown",
   "id": "e6d98e83",
   "metadata": {
    "papermill": {
     "duration": 0.013061,
     "end_time": "2022-10-28T18:20:39.654895",
     "exception": false,
     "start_time": "2022-10-28T18:20:39.641834",
     "status": "completed"
    },
    "tags": []
   },
   "source": [
    "# #Data Cleaning\n",
    "- No null values present in data\n",
    "-No redundant columns used"
   ]
  },
  {
   "cell_type": "markdown",
   "id": "3ad72e34",
   "metadata": {
    "papermill": {
     "duration": 0.011837,
     "end_time": "2022-10-28T18:20:39.678935",
     "exception": false,
     "start_time": "2022-10-28T18:20:39.667098",
     "status": "completed"
    },
    "tags": []
   },
   "source": [
    "# Cleaning of individual columns"
   ]
  },
  {
   "cell_type": "code",
   "execution_count": 9,
   "id": "c54b3b2b",
   "metadata": {
    "execution": {
     "iopub.execute_input": "2022-10-28T18:20:39.705193Z",
     "iopub.status.busy": "2022-10-28T18:20:39.704797Z",
     "iopub.status.idle": "2022-10-28T18:20:39.711700Z",
     "shell.execute_reply": "2022-10-28T18:20:39.710619Z"
    },
    "papermill": {
     "duration": 0.022556,
     "end_time": "2022-10-28T18:20:39.714064",
     "exception": false,
     "start_time": "2022-10-28T18:20:39.691508",
     "status": "completed"
    },
    "tags": []
   },
   "outputs": [
    {
     "data": {
      "text/plain": [
       "array(['Age', 'Attrition', 'BusinessTravel', 'DailyRate', 'Department',\n",
       "       'DistanceFromHome', 'Education', 'EducationField', 'EmployeeCount',\n",
       "       'EmployeeNumber', 'EnvironmentSatisfaction', 'Gender',\n",
       "       'HourlyRate', 'JobInvolvement', 'JobLevel', 'JobRole',\n",
       "       'JobSatisfaction', 'MaritalStatus', 'MonthlyIncome', 'MonthlyRate',\n",
       "       'NumCompaniesWorked', 'Over18', 'OverTime', 'PercentSalaryHike',\n",
       "       'PerformanceRating', 'RelationshipSatisfaction', 'StandardHours',\n",
       "       'StockOptionLevel', 'TotalWorkingYears', 'TrainingTimesLastYear',\n",
       "       'WorkLifeBalance', 'YearsAtCompany', 'YearsInCurrentRole',\n",
       "       'YearsSinceLastPromotion', 'YearsWithCurrManager'], dtype=object)"
      ]
     },
     "execution_count": 9,
     "metadata": {},
     "output_type": "execute_result"
    }
   ],
   "source": [
    "HRData.columns.values"
   ]
  },
  {
   "cell_type": "markdown",
   "id": "b0b61634",
   "metadata": {
    "papermill": {
     "duration": 0.011924,
     "end_time": "2022-10-28T18:20:39.738229",
     "exception": false,
     "start_time": "2022-10-28T18:20:39.726305",
     "status": "completed"
    },
    "tags": []
   },
   "source": [
    "Attrition rate of employees"
   ]
  },
  {
   "cell_type": "code",
   "execution_count": 10,
   "id": "69646b94",
   "metadata": {
    "execution": {
     "iopub.execute_input": "2022-10-28T18:20:39.765141Z",
     "iopub.status.busy": "2022-10-28T18:20:39.764493Z",
     "iopub.status.idle": "2022-10-28T18:20:39.772724Z",
     "shell.execute_reply": "2022-10-28T18:20:39.771846Z"
    },
    "papermill": {
     "duration": 0.024382,
     "end_time": "2022-10-28T18:20:39.774781",
     "exception": false,
     "start_time": "2022-10-28T18:20:39.750399",
     "status": "completed"
    },
    "tags": []
   },
   "outputs": [
    {
     "data": {
      "text/plain": [
       "No     1233\n",
       "Yes     237\n",
       "Name: Attrition, dtype: int64"
      ]
     },
     "execution_count": 10,
     "metadata": {},
     "output_type": "execute_result"
    }
   ],
   "source": [
    "HRData.Attrition.value_counts()"
   ]
  },
  {
   "cell_type": "code",
   "execution_count": 11,
   "id": "cdc31e46",
   "metadata": {
    "execution": {
     "iopub.execute_input": "2022-10-28T18:20:39.801584Z",
     "iopub.status.busy": "2022-10-28T18:20:39.800899Z",
     "iopub.status.idle": "2022-10-28T18:20:39.809859Z",
     "shell.execute_reply": "2022-10-28T18:20:39.808899Z"
    },
    "papermill": {
     "duration": 0.024945,
     "end_time": "2022-10-28T18:20:39.811976",
     "exception": false,
     "start_time": "2022-10-28T18:20:39.787031",
     "status": "completed"
    },
    "tags": []
   },
   "outputs": [
    {
     "data": {
      "text/plain": [
       "No     83.877551\n",
       "Yes    16.122449\n",
       "Name: Attrition, dtype: float64"
      ]
     },
     "execution_count": 11,
     "metadata": {},
     "output_type": "execute_result"
    }
   ],
   "source": [
    "100 * HRData.Attrition.value_counts()/len(HRData.Attrition)"
   ]
  },
  {
   "cell_type": "markdown",
   "id": "d7b3b631",
   "metadata": {
    "papermill": {
     "duration": 0.012092,
     "end_time": "2022-10-28T18:20:39.836548",
     "exception": false,
     "start_time": "2022-10-28T18:20:39.824456",
     "status": "completed"
    },
    "tags": []
   },
   "source": [
    "**** #83 % employees are working and 16% percent employees have left or tend to leave"
   ]
  },
  {
   "cell_type": "code",
   "execution_count": 12,
   "id": "ed8ff290",
   "metadata": {
    "execution": {
     "iopub.execute_input": "2022-10-28T18:20:39.863665Z",
     "iopub.status.busy": "2022-10-28T18:20:39.862758Z",
     "iopub.status.idle": "2022-10-28T18:20:39.871426Z",
     "shell.execute_reply": "2022-10-28T18:20:39.870497Z"
    },
    "papermill": {
     "duration": 0.024723,
     "end_time": "2022-10-28T18:20:39.873814",
     "exception": false,
     "start_time": "2022-10-28T18:20:39.849091",
     "status": "completed"
    },
    "tags": []
   },
   "outputs": [
    {
     "data": {
      "text/plain": [
       "Travel_Rarely        1043\n",
       "Travel_Frequently     277\n",
       "Non-Travel            150\n",
       "Name: BusinessTravel, dtype: int64"
      ]
     },
     "execution_count": 12,
     "metadata": {},
     "output_type": "execute_result"
    }
   ],
   "source": [
    "HRData.BusinessTravel.value_counts()"
   ]
  },
  {
   "cell_type": "code",
   "execution_count": 13,
   "id": "42f7e6ac",
   "metadata": {
    "execution": {
     "iopub.execute_input": "2022-10-28T18:20:39.901397Z",
     "iopub.status.busy": "2022-10-28T18:20:39.900983Z",
     "iopub.status.idle": "2022-10-28T18:20:39.909172Z",
     "shell.execute_reply": "2022-10-28T18:20:39.908420Z"
    },
    "papermill": {
     "duration": 0.024779,
     "end_time": "2022-10-28T18:20:39.911593",
     "exception": false,
     "start_time": "2022-10-28T18:20:39.886814",
     "status": "completed"
    },
    "tags": []
   },
   "outputs": [
    {
     "data": {
      "text/plain": [
       "Research & Development    961\n",
       "Sales                     446\n",
       "Human Resources            63\n",
       "Name: Department, dtype: int64"
      ]
     },
     "execution_count": 13,
     "metadata": {},
     "output_type": "execute_result"
    }
   ],
   "source": [
    "HRData.Department.value_counts()"
   ]
  },
  {
   "cell_type": "code",
   "execution_count": 14,
   "id": "dd63abb6",
   "metadata": {
    "execution": {
     "iopub.execute_input": "2022-10-28T18:20:39.939257Z",
     "iopub.status.busy": "2022-10-28T18:20:39.938810Z",
     "iopub.status.idle": "2022-10-28T18:20:39.947558Z",
     "shell.execute_reply": "2022-10-28T18:20:39.946468Z"
    },
    "papermill": {
     "duration": 0.025458,
     "end_time": "2022-10-28T18:20:39.949830",
     "exception": false,
     "start_time": "2022-10-28T18:20:39.924372",
     "status": "completed"
    },
    "tags": []
   },
   "outputs": [
    {
     "data": {
      "text/plain": [
       "3    572\n",
       "4    398\n",
       "2    282\n",
       "1    170\n",
       "5     48\n",
       "Name: Education, dtype: int64"
      ]
     },
     "execution_count": 14,
     "metadata": {},
     "output_type": "execute_result"
    }
   ],
   "source": [
    "HRData.Education.value_counts()"
   ]
  },
  {
   "cell_type": "code",
   "execution_count": 15,
   "id": "5bee63d9",
   "metadata": {
    "execution": {
     "iopub.execute_input": "2022-10-28T18:20:39.976954Z",
     "iopub.status.busy": "2022-10-28T18:20:39.976419Z",
     "iopub.status.idle": "2022-10-28T18:20:39.985865Z",
     "shell.execute_reply": "2022-10-28T18:20:39.984771Z"
    },
    "papermill": {
     "duration": 0.025695,
     "end_time": "2022-10-28T18:20:39.988085",
     "exception": false,
     "start_time": "2022-10-28T18:20:39.962390",
     "status": "completed"
    },
    "tags": []
   },
   "outputs": [
    {
     "data": {
      "text/plain": [
       "Life Sciences       606\n",
       "Medical             464\n",
       "Marketing           159\n",
       "Technical Degree    132\n",
       "Other                82\n",
       "Human Resources      27\n",
       "Name: EducationField, dtype: int64"
      ]
     },
     "execution_count": 15,
     "metadata": {},
     "output_type": "execute_result"
    }
   ],
   "source": [
    "HRData.EducationField.value_counts()"
   ]
  },
  {
   "cell_type": "code",
   "execution_count": 16,
   "id": "1ed76ca5",
   "metadata": {
    "execution": {
     "iopub.execute_input": "2022-10-28T18:20:40.015764Z",
     "iopub.status.busy": "2022-10-28T18:20:40.014768Z",
     "iopub.status.idle": "2022-10-28T18:20:40.023491Z",
     "shell.execute_reply": "2022-10-28T18:20:40.022473Z"
    },
    "papermill": {
     "duration": 0.024952,
     "end_time": "2022-10-28T18:20:40.025770",
     "exception": false,
     "start_time": "2022-10-28T18:20:40.000818",
     "status": "completed"
    },
    "tags": []
   },
   "outputs": [
    {
     "data": {
      "text/plain": [
       "3    453\n",
       "4    446\n",
       "2    287\n",
       "1    284\n",
       "Name: EnvironmentSatisfaction, dtype: int64"
      ]
     },
     "execution_count": 16,
     "metadata": {},
     "output_type": "execute_result"
    }
   ],
   "source": [
    "HRData.EnvironmentSatisfaction.value_counts()"
   ]
  },
  {
   "cell_type": "code",
   "execution_count": 17,
   "id": "9e509567",
   "metadata": {
    "execution": {
     "iopub.execute_input": "2022-10-28T18:20:40.053396Z",
     "iopub.status.busy": "2022-10-28T18:20:40.052845Z",
     "iopub.status.idle": "2022-10-28T18:20:40.061377Z",
     "shell.execute_reply": "2022-10-28T18:20:40.060303Z"
    },
    "papermill": {
     "duration": 0.024553,
     "end_time": "2022-10-28T18:20:40.063481",
     "exception": false,
     "start_time": "2022-10-28T18:20:40.038928",
     "status": "completed"
    },
    "tags": []
   },
   "outputs": [
    {
     "data": {
      "text/plain": [
       "Male      882\n",
       "Female    588\n",
       "Name: Gender, dtype: int64"
      ]
     },
     "execution_count": 17,
     "metadata": {},
     "output_type": "execute_result"
    }
   ],
   "source": [
    "HRData.Gender.value_counts()"
   ]
  },
  {
   "cell_type": "code",
   "execution_count": 18,
   "id": "9c0e1f1f",
   "metadata": {
    "execution": {
     "iopub.execute_input": "2022-10-28T18:20:40.091350Z",
     "iopub.status.busy": "2022-10-28T18:20:40.090914Z",
     "iopub.status.idle": "2022-10-28T18:20:40.098978Z",
     "shell.execute_reply": "2022-10-28T18:20:40.098246Z"
    },
    "papermill": {
     "duration": 0.024911,
     "end_time": "2022-10-28T18:20:40.101481",
     "exception": false,
     "start_time": "2022-10-28T18:20:40.076570",
     "status": "completed"
    },
    "tags": []
   },
   "outputs": [
    {
     "data": {
      "text/plain": [
       "3    868\n",
       "2    375\n",
       "4    144\n",
       "1     83\n",
       "Name: JobInvolvement, dtype: int64"
      ]
     },
     "execution_count": 18,
     "metadata": {},
     "output_type": "execute_result"
    }
   ],
   "source": [
    "HRData.JobInvolvement.value_counts()"
   ]
  },
  {
   "cell_type": "code",
   "execution_count": 19,
   "id": "29f7f28c",
   "metadata": {
    "execution": {
     "iopub.execute_input": "2022-10-28T18:20:40.131930Z",
     "iopub.status.busy": "2022-10-28T18:20:40.131545Z",
     "iopub.status.idle": "2022-10-28T18:20:40.140334Z",
     "shell.execute_reply": "2022-10-28T18:20:40.139327Z"
    },
    "papermill": {
     "duration": 0.025676,
     "end_time": "2022-10-28T18:20:40.142865",
     "exception": false,
     "start_time": "2022-10-28T18:20:40.117189",
     "status": "completed"
    },
    "tags": []
   },
   "outputs": [
    {
     "data": {
      "text/plain": [
       "1    543\n",
       "2    534\n",
       "3    218\n",
       "4    106\n",
       "5     69\n",
       "Name: JobLevel, dtype: int64"
      ]
     },
     "execution_count": 19,
     "metadata": {},
     "output_type": "execute_result"
    }
   ],
   "source": [
    "HRData.JobLevel.value_counts()"
   ]
  },
  {
   "cell_type": "code",
   "execution_count": 20,
   "id": "20fa0dfe",
   "metadata": {
    "execution": {
     "iopub.execute_input": "2022-10-28T18:20:40.171319Z",
     "iopub.status.busy": "2022-10-28T18:20:40.170919Z",
     "iopub.status.idle": "2022-10-28T18:20:40.179773Z",
     "shell.execute_reply": "2022-10-28T18:20:40.178707Z"
    },
    "papermill": {
     "duration": 0.025616,
     "end_time": "2022-10-28T18:20:40.182055",
     "exception": false,
     "start_time": "2022-10-28T18:20:40.156439",
     "status": "completed"
    },
    "tags": []
   },
   "outputs": [
    {
     "data": {
      "text/plain": [
       "Sales Executive              326\n",
       "Research Scientist           292\n",
       "Laboratory Technician        259\n",
       "Manufacturing Director       145\n",
       "Healthcare Representative    131\n",
       "Manager                      102\n",
       "Sales Representative          83\n",
       "Research Director             80\n",
       "Human Resources               52\n",
       "Name: JobRole, dtype: int64"
      ]
     },
     "execution_count": 20,
     "metadata": {},
     "output_type": "execute_result"
    }
   ],
   "source": [
    "HRData.JobRole.value_counts()"
   ]
  },
  {
   "cell_type": "code",
   "execution_count": 21,
   "id": "6e40148c",
   "metadata": {
    "execution": {
     "iopub.execute_input": "2022-10-28T18:20:40.211897Z",
     "iopub.status.busy": "2022-10-28T18:20:40.210559Z",
     "iopub.status.idle": "2022-10-28T18:20:40.220770Z",
     "shell.execute_reply": "2022-10-28T18:20:40.219570Z"
    },
    "papermill": {
     "duration": 0.028311,
     "end_time": "2022-10-28T18:20:40.223904",
     "exception": false,
     "start_time": "2022-10-28T18:20:40.195593",
     "status": "completed"
    },
    "tags": []
   },
   "outputs": [
    {
     "data": {
      "text/plain": [
       "4    459\n",
       "3    442\n",
       "1    289\n",
       "2    280\n",
       "Name: JobSatisfaction, dtype: int64"
      ]
     },
     "execution_count": 21,
     "metadata": {},
     "output_type": "execute_result"
    }
   ],
   "source": [
    "HRData.JobSatisfaction.value_counts()"
   ]
  },
  {
   "cell_type": "code",
   "execution_count": 22,
   "id": "ae74341e",
   "metadata": {
    "execution": {
     "iopub.execute_input": "2022-10-28T18:20:40.262998Z",
     "iopub.status.busy": "2022-10-28T18:20:40.261888Z",
     "iopub.status.idle": "2022-10-28T18:20:40.272131Z",
     "shell.execute_reply": "2022-10-28T18:20:40.271018Z"
    },
    "papermill": {
     "duration": 0.030342,
     "end_time": "2022-10-28T18:20:40.274947",
     "exception": false,
     "start_time": "2022-10-28T18:20:40.244605",
     "status": "completed"
    },
    "tags": []
   },
   "outputs": [
    {
     "data": {
      "text/plain": [
       "Married     673\n",
       "Single      470\n",
       "Divorced    327\n",
       "Name: MaritalStatus, dtype: int64"
      ]
     },
     "execution_count": 22,
     "metadata": {},
     "output_type": "execute_result"
    }
   ],
   "source": [
    "HRData.MaritalStatus.value_counts()"
   ]
  },
  {
   "cell_type": "code",
   "execution_count": 23,
   "id": "c41f880a",
   "metadata": {
    "execution": {
     "iopub.execute_input": "2022-10-28T18:20:40.308539Z",
     "iopub.status.busy": "2022-10-28T18:20:40.308154Z",
     "iopub.status.idle": "2022-10-28T18:20:40.317403Z",
     "shell.execute_reply": "2022-10-28T18:20:40.316198Z"
    },
    "papermill": {
     "duration": 0.026927,
     "end_time": "2022-10-28T18:20:40.319808",
     "exception": false,
     "start_time": "2022-10-28T18:20:40.292881",
     "status": "completed"
    },
    "tags": []
   },
   "outputs": [
    {
     "data": {
      "text/plain": [
       "1    521\n",
       "0    197\n",
       "3    159\n",
       "2    146\n",
       "4    139\n",
       "7     74\n",
       "6     70\n",
       "5     63\n",
       "9     52\n",
       "8     49\n",
       "Name: NumCompaniesWorked, dtype: int64"
      ]
     },
     "execution_count": 23,
     "metadata": {},
     "output_type": "execute_result"
    }
   ],
   "source": [
    "HRData.NumCompaniesWorked.value_counts()"
   ]
  },
  {
   "cell_type": "code",
   "execution_count": 24,
   "id": "7906c102",
   "metadata": {
    "execution": {
     "iopub.execute_input": "2022-10-28T18:20:40.350357Z",
     "iopub.status.busy": "2022-10-28T18:20:40.349938Z",
     "iopub.status.idle": "2022-10-28T18:20:40.358481Z",
     "shell.execute_reply": "2022-10-28T18:20:40.357199Z"
    },
    "papermill": {
     "duration": 0.026273,
     "end_time": "2022-10-28T18:20:40.360481",
     "exception": false,
     "start_time": "2022-10-28T18:20:40.334208",
     "status": "completed"
    },
    "tags": []
   },
   "outputs": [
    {
     "data": {
      "text/plain": [
       "Y    1470\n",
       "Name: Over18, dtype: int64"
      ]
     },
     "execution_count": 24,
     "metadata": {},
     "output_type": "execute_result"
    }
   ],
   "source": [
    "HRData.Over18.value_counts()"
   ]
  },
  {
   "cell_type": "code",
   "execution_count": 25,
   "id": "506fa41e",
   "metadata": {
    "execution": {
     "iopub.execute_input": "2022-10-28T18:20:40.389963Z",
     "iopub.status.busy": "2022-10-28T18:20:40.389537Z",
     "iopub.status.idle": "2022-10-28T18:20:40.398114Z",
     "shell.execute_reply": "2022-10-28T18:20:40.397370Z"
    },
    "papermill": {
     "duration": 0.026131,
     "end_time": "2022-10-28T18:20:40.400386",
     "exception": false,
     "start_time": "2022-10-28T18:20:40.374255",
     "status": "completed"
    },
    "tags": []
   },
   "outputs": [
    {
     "data": {
      "text/plain": [
       "No     1054\n",
       "Yes     416\n",
       "Name: OverTime, dtype: int64"
      ]
     },
     "execution_count": 25,
     "metadata": {},
     "output_type": "execute_result"
    }
   ],
   "source": [
    "HRData.OverTime.value_counts()"
   ]
  },
  {
   "cell_type": "code",
   "execution_count": 26,
   "id": "fdeb648a",
   "metadata": {
    "execution": {
     "iopub.execute_input": "2022-10-28T18:20:40.430736Z",
     "iopub.status.busy": "2022-10-28T18:20:40.430340Z",
     "iopub.status.idle": "2022-10-28T18:20:40.492602Z",
     "shell.execute_reply": "2022-10-28T18:20:40.491512Z"
    },
    "papermill": {
     "duration": 0.079967,
     "end_time": "2022-10-28T18:20:40.494963",
     "exception": false,
     "start_time": "2022-10-28T18:20:40.414996",
     "status": "completed"
    },
    "tags": []
   },
   "outputs": [
    {
     "data": {
      "text/plain": [
       "count    1470.000000\n",
       "mean       15.209524\n",
       "std         3.659938\n",
       "min        11.000000\n",
       "25%        12.000000\n",
       "50%        14.000000\n",
       "75%        18.000000\n",
       "max        25.000000\n",
       "Name: PercentSalaryHike, dtype: float64"
      ]
     },
     "execution_count": 26,
     "metadata": {},
     "output_type": "execute_result"
    }
   ],
   "source": [
    "HRData.describe().PercentSalaryHike"
   ]
  },
  {
   "cell_type": "code",
   "execution_count": 27,
   "id": "90757e0e",
   "metadata": {
    "execution": {
     "iopub.execute_input": "2022-10-28T18:20:40.525219Z",
     "iopub.status.busy": "2022-10-28T18:20:40.524782Z",
     "iopub.status.idle": "2022-10-28T18:20:40.533513Z",
     "shell.execute_reply": "2022-10-28T18:20:40.532433Z"
    },
    "papermill": {
     "duration": 0.026299,
     "end_time": "2022-10-28T18:20:40.535873",
     "exception": false,
     "start_time": "2022-10-28T18:20:40.509574",
     "status": "completed"
    },
    "tags": []
   },
   "outputs": [
    {
     "data": {
      "text/plain": [
       "3    1244\n",
       "4     226\n",
       "Name: PerformanceRating, dtype: int64"
      ]
     },
     "execution_count": 27,
     "metadata": {},
     "output_type": "execute_result"
    }
   ],
   "source": [
    "HRData.PerformanceRating.value_counts()"
   ]
  },
  {
   "cell_type": "code",
   "execution_count": 28,
   "id": "cc422fe4",
   "metadata": {
    "execution": {
     "iopub.execute_input": "2022-10-28T18:20:40.565623Z",
     "iopub.status.busy": "2022-10-28T18:20:40.565233Z",
     "iopub.status.idle": "2022-10-28T18:20:40.575337Z",
     "shell.execute_reply": "2022-10-28T18:20:40.573968Z"
    },
    "papermill": {
     "duration": 0.027999,
     "end_time": "2022-10-28T18:20:40.577995",
     "exception": false,
     "start_time": "2022-10-28T18:20:40.549996",
     "status": "completed"
    },
    "tags": []
   },
   "outputs": [
    {
     "data": {
      "text/plain": [
       "3    459\n",
       "4    432\n",
       "2    303\n",
       "1    276\n",
       "Name: RelationshipSatisfaction, dtype: int64"
      ]
     },
     "execution_count": 28,
     "metadata": {},
     "output_type": "execute_result"
    }
   ],
   "source": [
    "HRData.RelationshipSatisfaction.value_counts()"
   ]
  },
  {
   "cell_type": "code",
   "execution_count": 29,
   "id": "d461fb19",
   "metadata": {
    "execution": {
     "iopub.execute_input": "2022-10-28T18:20:40.614495Z",
     "iopub.status.busy": "2022-10-28T18:20:40.614055Z",
     "iopub.status.idle": "2022-10-28T18:20:40.622451Z",
     "shell.execute_reply": "2022-10-28T18:20:40.621425Z"
    },
    "papermill": {
     "duration": 0.027039,
     "end_time": "2022-10-28T18:20:40.624426",
     "exception": false,
     "start_time": "2022-10-28T18:20:40.597387",
     "status": "completed"
    },
    "tags": []
   },
   "outputs": [
    {
     "data": {
      "text/plain": [
       "80    1470\n",
       "Name: StandardHours, dtype: int64"
      ]
     },
     "execution_count": 29,
     "metadata": {},
     "output_type": "execute_result"
    }
   ],
   "source": [
    "HRData.StandardHours.value_counts()"
   ]
  },
  {
   "cell_type": "code",
   "execution_count": 30,
   "id": "0a52df58",
   "metadata": {
    "execution": {
     "iopub.execute_input": "2022-10-28T18:20:40.655073Z",
     "iopub.status.busy": "2022-10-28T18:20:40.654576Z",
     "iopub.status.idle": "2022-10-28T18:20:40.663072Z",
     "shell.execute_reply": "2022-10-28T18:20:40.662068Z"
    },
    "papermill": {
     "duration": 0.02631,
     "end_time": "2022-10-28T18:20:40.665114",
     "exception": false,
     "start_time": "2022-10-28T18:20:40.638804",
     "status": "completed"
    },
    "tags": []
   },
   "outputs": [
    {
     "data": {
      "text/plain": [
       "0    631\n",
       "1    596\n",
       "2    158\n",
       "3     85\n",
       "Name: StockOptionLevel, dtype: int64"
      ]
     },
     "execution_count": 30,
     "metadata": {},
     "output_type": "execute_result"
    }
   ],
   "source": [
    "HRData.StockOptionLevel.value_counts()"
   ]
  },
  {
   "cell_type": "code",
   "execution_count": 31,
   "id": "a0d668fc",
   "metadata": {
    "execution": {
     "iopub.execute_input": "2022-10-28T18:20:40.698001Z",
     "iopub.status.busy": "2022-10-28T18:20:40.697635Z",
     "iopub.status.idle": "2022-10-28T18:20:40.705578Z",
     "shell.execute_reply": "2022-10-28T18:20:40.704560Z"
    },
    "papermill": {
     "duration": 0.0284,
     "end_time": "2022-10-28T18:20:40.707796",
     "exception": false,
     "start_time": "2022-10-28T18:20:40.679396",
     "status": "completed"
    },
    "tags": []
   },
   "outputs": [
    {
     "data": {
      "text/plain": [
       "3    893\n",
       "2    344\n",
       "4    153\n",
       "1     80\n",
       "Name: WorkLifeBalance, dtype: int64"
      ]
     },
     "execution_count": 31,
     "metadata": {},
     "output_type": "execute_result"
    }
   ],
   "source": [
    "HRData.WorkLifeBalance.value_counts()"
   ]
  },
  {
   "cell_type": "code",
   "execution_count": 32,
   "id": "aafd0e8d",
   "metadata": {
    "execution": {
     "iopub.execute_input": "2022-10-28T18:20:40.739250Z",
     "iopub.status.busy": "2022-10-28T18:20:40.738793Z",
     "iopub.status.idle": "2022-10-28T18:20:40.747072Z",
     "shell.execute_reply": "2022-10-28T18:20:40.745761Z"
    },
    "papermill": {
     "duration": 0.026421,
     "end_time": "2022-10-28T18:20:40.749317",
     "exception": false,
     "start_time": "2022-10-28T18:20:40.722896",
     "status": "completed"
    },
    "tags": []
   },
   "outputs": [
    {
     "data": {
      "text/plain": [
       "2     344\n",
       "0     263\n",
       "7     216\n",
       "3     142\n",
       "8     107\n",
       "4      98\n",
       "1      76\n",
       "9      64\n",
       "5      31\n",
       "6      29\n",
       "10     27\n",
       "11     22\n",
       "12     18\n",
       "13     14\n",
       "17      7\n",
       "15      5\n",
       "14      5\n",
       "16      2\n",
       "Name: YearsWithCurrManager, dtype: int64"
      ]
     },
     "execution_count": 32,
     "metadata": {},
     "output_type": "execute_result"
    }
   ],
   "source": [
    "HRData.YearsWithCurrManager.value_counts()"
   ]
  },
  {
   "cell_type": "markdown",
   "id": "33a2b864",
   "metadata": {
    "papermill": {
     "duration": 0.01416,
     "end_time": "2022-10-28T18:20:40.777974",
     "exception": false,
     "start_time": "2022-10-28T18:20:40.763814",
     "status": "completed"
    },
    "tags": []
   },
   "source": [
    "# Data Visualisation"
   ]
  },
  {
   "cell_type": "code",
   "execution_count": 33,
   "id": "f337b410",
   "metadata": {
    "execution": {
     "iopub.execute_input": "2022-10-28T18:20:40.808660Z",
     "iopub.status.busy": "2022-10-28T18:20:40.808242Z",
     "iopub.status.idle": "2022-10-28T18:20:41.991781Z",
     "shell.execute_reply": "2022-10-28T18:20:41.990651Z"
    },
    "papermill": {
     "duration": 1.202029,
     "end_time": "2022-10-28T18:20:41.994588",
     "exception": false,
     "start_time": "2022-10-28T18:20:40.792559",
     "status": "completed"
    },
    "tags": []
   },
   "outputs": [],
   "source": [
    "import  seaborn as sns\n",
    "import matplotlib.ticker as mtick\n",
    "import matplotlib.pyplot as plt"
   ]
  },
  {
   "cell_type": "code",
   "execution_count": 34,
   "id": "24563cf6",
   "metadata": {
    "execution": {
     "iopub.execute_input": "2022-10-28T18:20:42.027400Z",
     "iopub.status.busy": "2022-10-28T18:20:42.027004Z",
     "iopub.status.idle": "2022-10-28T18:20:42.033898Z",
     "shell.execute_reply": "2022-10-28T18:20:42.032809Z"
    },
    "papermill": {
     "duration": 0.026185,
     "end_time": "2022-10-28T18:20:42.036154",
     "exception": false,
     "start_time": "2022-10-28T18:20:42.009969",
     "status": "completed"
    },
    "tags": []
   },
   "outputs": [
    {
     "data": {
      "text/plain": [
       "array(['Age', 'Attrition', 'BusinessTravel', 'DailyRate', 'Department',\n",
       "       'DistanceFromHome', 'Education', 'EducationField', 'EmployeeCount',\n",
       "       'EmployeeNumber', 'EnvironmentSatisfaction', 'Gender',\n",
       "       'HourlyRate', 'JobInvolvement', 'JobLevel', 'JobRole',\n",
       "       'JobSatisfaction', 'MaritalStatus', 'MonthlyIncome', 'MonthlyRate',\n",
       "       'NumCompaniesWorked', 'Over18', 'OverTime', 'PercentSalaryHike',\n",
       "       'PerformanceRating', 'RelationshipSatisfaction', 'StandardHours',\n",
       "       'StockOptionLevel', 'TotalWorkingYears', 'TrainingTimesLastYear',\n",
       "       'WorkLifeBalance', 'YearsAtCompany', 'YearsInCurrentRole',\n",
       "       'YearsSinceLastPromotion', 'YearsWithCurrManager'], dtype=object)"
      ]
     },
     "execution_count": 34,
     "metadata": {},
     "output_type": "execute_result"
    }
   ],
   "source": [
    "HRData.columns.values"
   ]
  },
  {
   "cell_type": "code",
   "execution_count": 35,
   "id": "6631be93",
   "metadata": {
    "execution": {
     "iopub.execute_input": "2022-10-28T18:20:42.067986Z",
     "iopub.status.busy": "2022-10-28T18:20:42.067179Z",
     "iopub.status.idle": "2022-10-28T18:20:42.338817Z",
     "shell.execute_reply": "2022-10-28T18:20:42.337503Z"
    },
    "papermill": {
     "duration": 0.290543,
     "end_time": "2022-10-28T18:20:42.341357",
     "exception": false,
     "start_time": "2022-10-28T18:20:42.050814",
     "status": "completed"
    },
    "tags": []
   },
   "outputs": [
    {
     "data": {
      "text/plain": [
       "Text(0.5, 1.02, 'Count of target variable per category')"
      ]
     },
     "execution_count": 35,
     "metadata": {},
     "output_type": "execute_result"
    },
    {
     "data": {
      "image/png": "[encoded data removed]",
      "text/plain": [
       "<Figure size 576x432 with 1 Axes>"
      ]
     },
     "metadata": {
      "needs_background": "light"
     },
     "output_type": "display_data"
    }
   ],
   "source": [
    "HRData.Attrition.value_counts().plot(kind='bar' ,figsize=(8,6))\n",
    "plt.xlabel(\"Overtime Count\", labelpad=10)\n",
    "plt.ylabel(\"Target variable\", labelpad=10)\n",
    "plt.title(\"Count of target variable per category\", y=1.02)"
   ]
  },
  {
   "cell_type": "code",
   "execution_count": 36,
   "id": "c646f397",
   "metadata": {
    "execution": {
     "iopub.execute_input": "2022-10-28T18:20:42.374312Z",
     "iopub.status.busy": "2022-10-28T18:20:42.373331Z",
     "iopub.status.idle": "2022-10-28T18:20:50.536835Z",
     "shell.execute_reply": "2022-10-28T18:20:50.535804Z"
    },
    "papermill": {
     "duration": 8.182694,
     "end_time": "2022-10-28T18:20:50.539360",
     "exception": false,
     "start_time": "2022-10-28T18:20:42.356666",
     "status": "completed"
    },
    "tags": []
   },
   "outputs": [
    {
     "name": "stderr",
     "output_type": "stream",
     "text": [
      "/opt/conda/lib/python3.7/site-packages/ipykernel_launcher.py:2: RuntimeWarning: More than 20 figures have been opened. Figures created through the pyplot interface (`matplotlib.pyplot.figure`) are retained until explicitly closed and may consume too much memory. (To control this warning, see the rcParam `figure.max_open_warning`).\n",
      "  \n"
     ]
    },
    {
     "data": {
      "image/png": "[encoded data removed]",
      "text/plain": [
       "<Figure size 720x576 with 1 Axes>"
      ]
     },
     "metadata": {
      "needs_background": "light"
     },
     "output_type": "display_data"
    },
    {
     "data": {
      "image/png": "[encoded data removed]",
      "text/plain": [
       "<Figure size 720x576 with 1 Axes>"
      ]
     },
     "metadata": {
      "needs_background": "light"
     },
     "output_type": "display_data"
    },
    {
     "data": {
      "image/png": "[encoded data removed]",
      "text/plain": [
       "<Figure size 720x576 with 1 Axes>"
      ]
     },
     "metadata": {
      "needs_background": "light"
     },
     "output_type": "display_data"
    },
    {
     "data": {
      "image/png": "[encoded data removed]",
      "text/plain": [
       "<Figure size 720x576 with 1 Axes>"
      ]
     },
     "metadata": {
      "needs_background": "light"
     },
     "output_type": "display_data"
    },
    {
     "data": {
      "image/png": "[encoded data removed]",
      "text/plain": [
       "<Figure size 720x576 with 1 Axes>"
      ]
     },
     "metadata": {
      "needs_background": "light"
     },
     "output_type": "display_data"
    },
    {
     "data": {
      "image/png": "[encoded data removed]",
      "text/plain": [
       "<Figure size 720x576 with 1 Axes>"
      ]
     },
     "metadata": {
      "needs_background": "light"
     },
     "output_type": "display_data"
    },
    {
     "data": {
      "image/png": "[encoded data removed]",
      "text/plain": [
       "<Figure size 720x576 with 1 Axes>"
      ]
     },
     "metadata": {
      "needs_background": "light"
     },
     "output_type": "display_data"
    },
    {
     "data": {
      "image/png": "[encoded data removed]",
      "text/plain": [
       "<Figure size 720x576 with 1 Axes>"
      ]
     },
     "metadata": {
      "needs_background": "light"
     },
     "output_type": "display_data"
    },
    {
     "data": {
      "image/png": "[encoded data removed]",
      "text/plain": [
       "<Figure size 720x576 with 1 Axes>"
      ]
     },
     "metadata": {
      "needs_background": "light"
     },
     "output_type": "display_data"
    },
    {
     "data": {
      "image/png": "[encoded data removed]",
      "text/plain": [
       "<Figure size 720x576 with 1 Axes>"
      ]
     },
     "metadata": {
      "needs_background": "light"
     },
     "output_type": "display_data"
    },
    {
     "data": {
      "image/png": "[encoded data removed]",
      "text/plain": [
       "<Figure size 720x576 with 1 Axes>"
      ]
     },
     "metadata": {
      "needs_background": "light"
     },
     "output_type": "display_data"
    },
    {
     "data": {
      "image/png": "[encoded data removed]",
      "text/plain": [
       "<Figure size 720x576 with 1 Axes>"
      ]
     },
     "metadata": {
      "needs_background": "light"
     },
     "output_type": "display_data"
    },
    {
     "data": {
      "image/png": "[encoded data removed]",
      "text/plain": [
       "<Figure size 720x576 with 1 Axes>"
      ]
     },
     "metadata": {
      "needs_background": "light"
     },
     "output_type": "display_data"
    },
    {
     "data": {
      "image/png": "[encoded data removed]",
      "text/plain": [
       "<Figure size 720x576 with 1 Axes>"
      ]
     },
     "metadata": {
      "needs_background": "light"
     },
     "output_type": "display_data"
    },
    {
     "data": {
      "image/png": "[encoded data removed]",
      "text/plain": [
       "<Figure size 720x576 with 1 Axes>"
      ]
     },
     "metadata": {
      "needs_background": "light"
     },
     "output_type": "display_data"
    },
    {
     "data": {
      "image/png": "[encoded data removed]",
      "text/plain": [
       "<Figure size 720x576 with 1 Axes>"
      ]
     },
     "metadata": {
      "needs_background": "light"
     },
     "output_type": "display_data"
    },
    {
     "data": {
      "image/png": "[encoded data removed]",
      "text/plain": [
       "<Figure size 720x576 with 1 Axes>"
      ]
     },
     "metadata": {
      "needs_background": "light"
     },
     "output_type": "display_data"
    },
    {
     "data": {
      "image/png": "[encoded data removed]",
      "text/plain": [
       "<Figure size 720x576 with 1 Axes>"
      ]
     },
     "metadata": {
      "needs_background": "light"
     },
     "output_type": "display_data"
    },
    {
     "data": {
      "image/png": "[encoded data removed]",
      "text/plain": [
       "<Figure size 720x576 with 1 Axes>"
      ]
     },
     "metadata": {
      "needs_background": "light"
     },
     "output_type": "display_data"
    },
    {
     "data": {
      "image/png": "[encoded data removed]",
      "text/plain": [
       "<Figure size 720x576 with 1 Axes>"
      ]
     },
     "metadata": {
      "needs_background": "light"
     },
     "output_type": "display_data"
    },
    {
     "data": {
      "image/png": "[encoded data removed]",
      "text/plain": [
       "<Figure size 720x576 with 1 Axes>"
      ]
     },
     "metadata": {
      "needs_background": "light"
     },
     "output_type": "display_data"
    },
    {
     "data": {
      "image/png": "[encoded data removed]",
      "text/plain": [
       "<Figure size 720x576 with 1 Axes>"
      ]
     },
     "metadata": {
      "needs_background": "light"
     },
     "output_type": "display_data"
    },
    {
     "data": {
      "image/png": "[encoded data removed]",
      "text/plain": [
       "<Figure size 720x576 with 1 Axes>"
      ]
     },
     "metadata": {
      "needs_background": "light"
     },
     "output_type": "display_data"
    },
    {
     "data": {
      "image/png": "[encoded data removed]",
      "text/plain": [
       "<Figure size 720x576 with 1 Axes>"
      ]
     },
     "metadata": {
      "needs_background": "light"
     },
     "output_type": "display_data"
    },
    {
     "data": {
      "image/png": "[encoded data removed]",
      "text/plain": [
       "<Figure size 720x576 with 1 Axes>"
      ]
     },
     "metadata": {
      "needs_background": "light"
     },
     "output_type": "display_data"
    },
    {
     "data": {
      "image/png": "[encoded data removed]",
      "text/plain": [
       "<Figure size 720x576 with 1 Axes>"
      ]
     },
     "metadata": {
      "needs_background": "light"
     },
     "output_type": "display_data"
    }
   ],
   "source": [
    "for i, p in enumerate(HRData.drop(columns=['Attrition','Age','EmployeeNumber','EmployeeCount','HourlyRate','MonthlyIncome','MonthlyRate','StockOptionLevel','DailyRate'])):\n",
    "    plt.figure(i,figsize=(10,8))\n",
    "    sns.countplot(data=HRData,x=p,hue='Attrition')"
   ]
  },
  {
   "cell_type": "markdown",
   "id": "b4bde072",
   "metadata": {
    "papermill": {
     "duration": 0.022529,
     "end_time": "2022-10-28T18:20:50.585475",
     "exception": false,
     "start_time": "2022-10-28T18:20:50.562946",
     "status": "completed"
    },
    "tags": []
   },
   "source": [
    "# Correlation Between Numeric Variables"
   ]
  },
  {
   "cell_type": "code",
   "execution_count": 37,
   "id": "5a640702",
   "metadata": {
    "execution": {
     "iopub.execute_input": "2022-10-28T18:20:50.632424Z",
     "iopub.status.busy": "2022-10-28T18:20:50.631669Z",
     "iopub.status.idle": "2022-10-28T18:20:50.668583Z",
     "shell.execute_reply": "2022-10-28T18:20:50.667504Z"
    },
    "papermill": {
     "duration": 0.064512,
     "end_time": "2022-10-28T18:20:50.672440",
     "exception": false,
     "start_time": "2022-10-28T18:20:50.607928",
     "status": "completed"
    },
    "tags": []
   },
   "outputs": [
    {
     "name": "stdout",
     "output_type": "stream",
     "text": [
      "                           Age  DailyRate  DistanceFromHome  Education  \\\n",
      "Age                       1.00       0.01             -0.00       0.21   \n",
      "DailyRate                 0.01       1.00             -0.00      -0.02   \n",
      "DistanceFromHome         -0.00      -0.00              1.00       0.02   \n",
      "Education                 0.21      -0.02              0.02       1.00   \n",
      "EmployeeCount              NaN        NaN               NaN        NaN   \n",
      "EmployeeNumber           -0.01      -0.05              0.03       0.04   \n",
      "EnvironmentSatisfaction   0.01       0.02             -0.02      -0.03   \n",
      "HourlyRate                0.02       0.02              0.03       0.02   \n",
      "JobInvolvement            0.03       0.05              0.01       0.04   \n",
      "JobLevel                  0.51       0.00              0.01       0.10   \n",
      "JobSatisfaction          -0.00       0.03             -0.00      -0.01   \n",
      "MonthlyIncome             0.50       0.01             -0.02       0.09   \n",
      "MonthlyRate               0.03      -0.03              0.03      -0.03   \n",
      "NumCompaniesWorked        0.30       0.04             -0.03       0.13   \n",
      "PercentSalaryHike         0.00       0.02              0.04      -0.01   \n",
      "PerformanceRating         0.00       0.00              0.03      -0.02   \n",
      "RelationshipSatisfaction  0.05       0.01              0.01      -0.01   \n",
      "StandardHours              NaN        NaN               NaN        NaN   \n",
      "StockOptionLevel          0.04       0.04              0.04       0.02   \n",
      "TotalWorkingYears         0.68       0.01              0.00       0.15   \n",
      "TrainingTimesLastYear    -0.02       0.00             -0.04      -0.03   \n",
      "WorkLifeBalance          -0.02      -0.04             -0.03       0.01   \n",
      "YearsAtCompany            0.31      -0.03              0.01       0.07   \n",
      "YearsInCurrentRole        0.21       0.01              0.02       0.06   \n",
      "YearsSinceLastPromotion   0.22      -0.03              0.01       0.05   \n",
      "YearsWithCurrManager      0.20      -0.03              0.01       0.07   \n",
      "\n",
      "                          EmployeeCount  EmployeeNumber  \\\n",
      "Age                                 NaN           -0.01   \n",
      "DailyRate                           NaN           -0.05   \n",
      "DistanceFromHome                    NaN            0.03   \n",
      "Education                           NaN            0.04   \n",
      "EmployeeCount                       NaN             NaN   \n",
      "EmployeeNumber                      NaN            1.00   \n",
      "EnvironmentSatisfaction             NaN            0.02   \n",
      "HourlyRate                          NaN            0.04   \n",
      "JobInvolvement                      NaN           -0.01   \n",
      "JobLevel                            NaN           -0.02   \n",
      "JobSatisfaction                     NaN           -0.05   \n",
      "MonthlyIncome                       NaN           -0.01   \n",
      "MonthlyRate                         NaN            0.01   \n",
      "NumCompaniesWorked                  NaN           -0.00   \n",
      "PercentSalaryHike                   NaN           -0.01   \n",
      "PerformanceRating                   NaN           -0.02   \n",
      "RelationshipSatisfaction            NaN           -0.07   \n",
      "StandardHours                       NaN             NaN   \n",
      "StockOptionLevel                    NaN            0.06   \n",
      "TotalWorkingYears                   NaN           -0.01   \n",
      "TrainingTimesLastYear               NaN            0.02   \n",
      "WorkLifeBalance                     NaN            0.01   \n",
      "YearsAtCompany                      NaN           -0.01   \n",
      "YearsInCurrentRole                  NaN           -0.01   \n",
      "YearsSinceLastPromotion             NaN           -0.01   \n",
      "YearsWithCurrManager                NaN           -0.01   \n",
      "\n",
      "                          EnvironmentSatisfaction  HourlyRate  JobInvolvement  \\\n",
      "Age                                          0.01        0.02            0.03   \n",
      "DailyRate                                    0.02        0.02            0.05   \n",
      "DistanceFromHome                            -0.02        0.03            0.01   \n",
      "Education                                   -0.03        0.02            0.04   \n",
      "EmployeeCount                                 NaN         NaN             NaN   \n",
      "EmployeeNumber                               0.02        0.04           -0.01   \n",
      "EnvironmentSatisfaction                      1.00       -0.05           -0.01   \n",
      "HourlyRate                                  -0.05        1.00            0.04   \n",
      "JobInvolvement                              -0.01        0.04            1.00   \n",
      "JobLevel                                     0.00       -0.03           -0.01   \n",
      "JobSatisfaction                             -0.01       -0.07           -0.02   \n",
      "MonthlyIncome                               -0.01       -0.02           -0.02   \n",
      "MonthlyRate                                  0.04       -0.02           -0.02   \n",
      "NumCompaniesWorked                           0.01        0.02            0.02   \n",
      "PercentSalaryHike                           -0.03       -0.01           -0.02   \n",
      "PerformanceRating                           -0.03       -0.00           -0.03   \n",
      "RelationshipSatisfaction                     0.01        0.00            0.03   \n",
      "StandardHours                                 NaN         NaN             NaN   \n",
      "StockOptionLevel                             0.00        0.05            0.02   \n",
      "TotalWorkingYears                           -0.00       -0.00           -0.01   \n",
      "TrainingTimesLastYear                       -0.02       -0.01           -0.02   \n",
      "WorkLifeBalance                              0.03       -0.00           -0.01   \n",
      "YearsAtCompany                               0.00       -0.02           -0.02   \n",
      "YearsInCurrentRole                           0.02       -0.02            0.01   \n",
      "YearsSinceLastPromotion                      0.02       -0.03           -0.02   \n",
      "YearsWithCurrManager                        -0.00       -0.02            0.03   \n",
      "\n",
      "                          JobLevel  ...  RelationshipSatisfaction  \\\n",
      "Age                           0.51  ...                      0.05   \n",
      "DailyRate                     0.00  ...                      0.01   \n",
      "DistanceFromHome              0.01  ...                      0.01   \n",
      "Education                     0.10  ...                     -0.01   \n",
      "EmployeeCount                  NaN  ...                       NaN   \n",
      "EmployeeNumber               -0.02  ...                     -0.07   \n",
      "EnvironmentSatisfaction       0.00  ...                      0.01   \n",
      "HourlyRate                   -0.03  ...                      0.00   \n",
      "JobInvolvement               -0.01  ...                      0.03   \n",
      "JobLevel                      1.00  ...                      0.02   \n",
      "JobSatisfaction              -0.00  ...                     -0.01   \n",
      "MonthlyIncome                 0.95  ...                      0.03   \n",
      "MonthlyRate                   0.04  ...                     -0.00   \n",
      "NumCompaniesWorked            0.14  ...                      0.05   \n",
      "PercentSalaryHike            -0.03  ...                     -0.04   \n",
      "PerformanceRating            -0.02  ...                     -0.03   \n",
      "RelationshipSatisfaction      0.02  ...                      1.00   \n",
      "StandardHours                  NaN  ...                       NaN   \n",
      "StockOptionLevel              0.01  ...                     -0.05   \n",
      "TotalWorkingYears             0.78  ...                      0.02   \n",
      "TrainingTimesLastYear        -0.02  ...                      0.00   \n",
      "WorkLifeBalance               0.04  ...                      0.02   \n",
      "YearsAtCompany                0.53  ...                      0.02   \n",
      "YearsInCurrentRole            0.39  ...                     -0.02   \n",
      "YearsSinceLastPromotion       0.35  ...                      0.03   \n",
      "YearsWithCurrManager          0.38  ...                     -0.00   \n",
      "\n",
      "                          StandardHours  StockOptionLevel  TotalWorkingYears  \\\n",
      "Age                                 NaN              0.04               0.68   \n",
      "DailyRate                           NaN              0.04               0.01   \n",
      "DistanceFromHome                    NaN              0.04               0.00   \n",
      "Education                           NaN              0.02               0.15   \n",
      "EmployeeCount                       NaN               NaN                NaN   \n",
      "EmployeeNumber                      NaN              0.06              -0.01   \n",
      "EnvironmentSatisfaction             NaN              0.00              -0.00   \n",
      "HourlyRate                          NaN              0.05              -0.00   \n",
      "JobInvolvement                      NaN              0.02              -0.01   \n",
      "JobLevel                            NaN              0.01               0.78   \n",
      "JobSatisfaction                     NaN              0.01              -0.02   \n",
      "MonthlyIncome                       NaN              0.01               0.77   \n",
      "MonthlyRate                         NaN             -0.03               0.03   \n",
      "NumCompaniesWorked                  NaN              0.03               0.24   \n",
      "PercentSalaryHike                   NaN              0.01              -0.02   \n",
      "PerformanceRating                   NaN              0.00               0.01   \n",
      "RelationshipSatisfaction            NaN             -0.05               0.02   \n",
      "StandardHours                       NaN               NaN                NaN   \n",
      "StockOptionLevel                    NaN              1.00               0.01   \n",
      "TotalWorkingYears                   NaN              0.01               1.00   \n",
      "TrainingTimesLastYear               NaN              0.01              -0.04   \n",
      "WorkLifeBalance                     NaN              0.00               0.00   \n",
      "YearsAtCompany                      NaN              0.02               0.63   \n",
      "YearsInCurrentRole                  NaN              0.05               0.46   \n",
      "YearsSinceLastPromotion             NaN              0.01               0.40   \n",
      "YearsWithCurrManager                NaN              0.02               0.46   \n",
      "\n",
      "                          TrainingTimesLastYear  WorkLifeBalance  \\\n",
      "Age                                       -0.02            -0.02   \n",
      "DailyRate                                  0.00            -0.04   \n",
      "DistanceFromHome                          -0.04            -0.03   \n",
      "Education                                 -0.03             0.01   \n",
      "EmployeeCount                               NaN              NaN   \n",
      "EmployeeNumber                             0.02             0.01   \n",
      "EnvironmentSatisfaction                   -0.02             0.03   \n",
      "HourlyRate                                -0.01            -0.00   \n",
      "JobInvolvement                            -0.02            -0.01   \n",
      "JobLevel                                  -0.02             0.04   \n",
      "JobSatisfaction                           -0.01            -0.02   \n",
      "MonthlyIncome                             -0.02             0.03   \n",
      "MonthlyRate                                0.00             0.01   \n",
      "NumCompaniesWorked                        -0.07            -0.01   \n",
      "PercentSalaryHike                         -0.01            -0.00   \n",
      "PerformanceRating                         -0.02             0.00   \n",
      "RelationshipSatisfaction                   0.00             0.02   \n",
      "StandardHours                               NaN              NaN   \n",
      "StockOptionLevel                           0.01             0.00   \n",
      "TotalWorkingYears                         -0.04             0.00   \n",
      "TrainingTimesLastYear                      1.00             0.03   \n",
      "WorkLifeBalance                            0.03             1.00   \n",
      "YearsAtCompany                             0.00             0.01   \n",
      "YearsInCurrentRole                        -0.01             0.05   \n",
      "YearsSinceLastPromotion                   -0.00             0.01   \n",
      "YearsWithCurrManager                      -0.00             0.00   \n",
      "\n",
      "                          YearsAtCompany  YearsInCurrentRole  \\\n",
      "Age                                 0.31                0.21   \n",
      "DailyRate                          -0.03                0.01   \n",
      "DistanceFromHome                    0.01                0.02   \n",
      "Education                           0.07                0.06   \n",
      "EmployeeCount                        NaN                 NaN   \n",
      "EmployeeNumber                     -0.01               -0.01   \n",
      "EnvironmentSatisfaction             0.00                0.02   \n",
      "HourlyRate                         -0.02               -0.02   \n",
      "JobInvolvement                     -0.02                0.01   \n",
      "JobLevel                            0.53                0.39   \n",
      "JobSatisfaction                    -0.00               -0.00   \n",
      "MonthlyIncome                       0.51                0.36   \n",
      "MonthlyRate                        -0.02               -0.01   \n",
      "NumCompaniesWorked                 -0.12               -0.09   \n",
      "PercentSalaryHike                  -0.04               -0.00   \n",
      "PerformanceRating                   0.00                0.03   \n",
      "RelationshipSatisfaction            0.02               -0.02   \n",
      "StandardHours                        NaN                 NaN   \n",
      "StockOptionLevel                    0.02                0.05   \n",
      "TotalWorkingYears                   0.63                0.46   \n",
      "TrainingTimesLastYear               0.00               -0.01   \n",
      "WorkLifeBalance                     0.01                0.05   \n",
      "YearsAtCompany                      1.00                0.76   \n",
      "YearsInCurrentRole                  0.76                1.00   \n",
      "YearsSinceLastPromotion             0.62                0.55   \n",
      "YearsWithCurrManager                0.77                0.71   \n",
      "\n",
      "                          YearsSinceLastPromotion  YearsWithCurrManager  \n",
      "Age                                          0.22                  0.20  \n",
      "DailyRate                                   -0.03                 -0.03  \n",
      "DistanceFromHome                             0.01                  0.01  \n",
      "Education                                    0.05                  0.07  \n",
      "EmployeeCount                                 NaN                   NaN  \n",
      "EmployeeNumber                              -0.01                 -0.01  \n",
      "EnvironmentSatisfaction                      0.02                 -0.00  \n",
      "HourlyRate                                  -0.03                 -0.02  \n",
      "JobInvolvement                              -0.02                  0.03  \n",
      "JobLevel                                     0.35                  0.38  \n",
      "JobSatisfaction                             -0.02                 -0.03  \n",
      "MonthlyIncome                                0.34                  0.34  \n",
      "MonthlyRate                                  0.00                 -0.04  \n",
      "NumCompaniesWorked                          -0.04                 -0.11  \n",
      "PercentSalaryHike                           -0.02                 -0.01  \n",
      "PerformanceRating                            0.02                  0.02  \n",
      "RelationshipSatisfaction                     0.03                 -0.00  \n",
      "StandardHours                                 NaN                   NaN  \n",
      "StockOptionLevel                             0.01                  0.02  \n",
      "TotalWorkingYears                            0.40                  0.46  \n",
      "TrainingTimesLastYear                       -0.00                 -0.00  \n",
      "WorkLifeBalance                              0.01                  0.00  \n",
      "YearsAtCompany                               0.62                  0.77  \n",
      "YearsInCurrentRole                           0.55                  0.71  \n",
      "YearsSinceLastPromotion                      1.00                  0.51  \n",
      "YearsWithCurrManager                         0.51                  1.00  \n",
      "\n",
      "[26 rows x 26 columns]\n"
     ]
    }
   ],
   "source": [
    "matrix = HRData.corr().round(2)\n",
    "print(matrix)"
   ]
  },
  {
   "cell_type": "markdown",
   "id": "c48fcdac",
   "metadata": {
    "papermill": {
     "duration": 0.023281,
     "end_time": "2022-10-28T18:20:50.720006",
     "exception": false,
     "start_time": "2022-10-28T18:20:50.696725",
     "status": "completed"
    },
    "tags": []
   },
   "source": [
    "# Correlation Map Between Numeric Variables"
   ]
  },
  {
   "cell_type": "markdown",
   "id": "354eda2b",
   "metadata": {
    "papermill": {
     "duration": 0.022326,
     "end_time": "2022-10-28T18:20:50.765266",
     "exception": false,
     "start_time": "2022-10-28T18:20:50.742940",
     "status": "completed"
    },
    "tags": []
   },
   "source": []
  },
  {
   "cell_type": "code",
   "execution_count": 38,
   "id": "1ba71592",
   "metadata": {
    "execution": {
     "iopub.execute_input": "2022-10-28T18:20:50.812430Z",
     "iopub.status.busy": "2022-10-28T18:20:50.811685Z",
     "iopub.status.idle": "2022-10-28T18:20:51.301617Z",
     "shell.execute_reply": "2022-10-28T18:20:51.300445Z"
    },
    "papermill": {
     "duration": 0.516133,
     "end_time": "2022-10-28T18:20:51.303872",
     "exception": false,
     "start_time": "2022-10-28T18:20:50.787739",
     "status": "completed"
    },
    "tags": []
   },
   "outputs": [
    {
     "data": {
      "image/png": "[encoded data removed]",
      "text/plain": [
       "<Figure size 432x288 with 2 Axes>"
      ]
     },
     "metadata": {
      "needs_background": "light"
     },
     "output_type": "display_data"
    }
   ],
   "source": [
    "ax = sns.heatmap(\n",
    "    matrix, \n",
    "    vmin=-1, vmax=1, center=0,\n",
    "    cmap=sns.diverging_palette(20, 220, n=200),\n",
    "    square=True\n",
    ")\n",
    "ax.set_xticklabels(\n",
    "    ax.get_xticklabels(),\n",
    "    rotation=45,\n",
    "    horizontalalignment='right'\n",
    ");"
   ]
  },
  {
   "cell_type": "markdown",
   "id": "b1e8bf2a",
   "metadata": {
    "papermill": {
     "duration": 0.023163,
     "end_time": "2022-10-28T18:20:51.351038",
     "exception": false,
     "start_time": "2022-10-28T18:20:51.327875",
     "status": "completed"
    },
    "tags": []
   },
   "source": [
    "* From above Heat Map we can observe that Dark Green coloured varibles are mostly correlated with each other.\n",
    "* For eg. When Monthly Rate increased Job Satisfaction also increased.\n",
    "* Similarly Orange coloured variables are negatively correlated with each other or inversely proportional.\n",
    "* For eg. When Years since last promotions increased Percent salary hike decreased."
   ]
  }
 ],
 "metadata": {
  "kernelspec": {
   "display_name": "Python 3",
   "language": "python",
   "name": "python3"
  },
  "language_info": {
   "codemirror_mode": {
    "name": "ipython",
    "version": 3
   },
   "file_extension": ".py",
   "mimetype": "text/x-python",
   "name": "python",
   "nbconvert_exporter": "python",
   "pygments_lexer": "ipython3",
   "version": "3.7.12"
  },
  "papermill": {
   "default_parameters": {},
   "duration": 21.899276,
   "end_time": "2022-10-28T18:20:52.197575",
   "environment_variables": {},
   "exception": null,
   "input_path": "__notebook__.ipynb",
   "output_path": "__notebook__.ipynb",
   "parameters": {},
   "start_time": "2022-10-28T18:20:30.298299",
   "version": "2.3.4"
  }
 },
 "nbformat": 4,
 "nbformat_minor": 5
}
